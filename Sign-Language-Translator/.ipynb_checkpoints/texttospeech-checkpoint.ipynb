{
 "cells": [
  {
   "cell_type": "code",
   "execution_count": 2,
   "id": "8b29323b",
   "metadata": {},
   "outputs": [
    {
     "name": "stdout",
     "output_type": "stream",
     "text": [
      "Collecting gtts\n",
      "  Downloading gTTS-2.3.0-py3-none-any.whl (26 kB)\n",
      "Requirement already satisfied: click~=8.1.3 in c:\\users\\viet\\appdata\\roaming\\python\\python39\\site-packages (from gtts) (8.1.3)\n",
      "Collecting requests~=2.28.0\n",
      "  Using cached requests-2.28.1-py3-none-any.whl (62 kB)\n",
      "Requirement already satisfied: six~=1.16.0 in c:\\users\\viet\\anaconda3\\lib\\site-packages (from gtts) (1.16.0)\n",
      "Requirement already satisfied: colorama in c:\\users\\viet\\anaconda3\\lib\\site-packages (from click~=8.1.3->gtts) (0.4.4)\n",
      "Requirement already satisfied: charset-normalizer<3,>=2 in c:\\users\\viet\\anaconda3\\lib\\site-packages (from requests~=2.28.0->gtts) (2.0.4)\n",
      "Requirement already satisfied: urllib3<1.27,>=1.21.1 in c:\\users\\viet\\anaconda3\\lib\\site-packages (from requests~=2.28.0->gtts) (1.26.9)\n",
      "Requirement already satisfied: idna<4,>=2.5 in c:\\users\\viet\\anaconda3\\lib\\site-packages (from requests~=2.28.0->gtts) (3.3)\n",
      "Requirement already satisfied: certifi>=2017.4.17 in c:\\users\\viet\\anaconda3\\lib\\site-packages (from requests~=2.28.0->gtts) (2021.10.8)\n",
      "Installing collected packages: requests, gtts\n",
      "  Attempting uninstall: requests\n",
      "    Found existing installation: requests 2.27.1\n",
      "    Uninstalling requests-2.27.1:\n",
      "      Successfully uninstalled requests-2.27.1\n",
      "Successfully installed gtts-2.3.0 requests-2.28.1\n"
     ]
    },
    {
     "name": "stderr",
     "output_type": "stream",
     "text": [
      "WARNING: Ignoring invalid distribution -illow (c:\\users\\viet\\anaconda3\\lib\\site-packages)\n",
      "WARNING: Ignoring invalid distribution -illow (c:\\users\\viet\\anaconda3\\lib\\site-packages)\n",
      "WARNING: Ignoring invalid distribution -illow (c:\\users\\viet\\anaconda3\\lib\\site-packages)\n",
      "    WARNING: Ignoring invalid distribution -illow (c:\\users\\viet\\anaconda3\\lib\\site-packages)\n",
      "WARNING: Ignoring invalid distribution -illow (c:\\users\\viet\\anaconda3\\lib\\site-packages)\n",
      "WARNING: Ignoring invalid distribution -illow (c:\\users\\viet\\anaconda3\\lib\\site-packages)\n",
      "ERROR: pip's dependency resolver does not currently take into account all the packages that are installed. This behaviour is the source of the following dependency conflicts.\n",
      "conda-repo-cli 1.0.5 requires pathlib, which is not installed.\n",
      "WARNING: Ignoring invalid distribution -illow (c:\\users\\viet\\anaconda3\\lib\\site-packages)\n",
      "WARNING: Ignoring invalid distribution -illow (c:\\users\\viet\\anaconda3\\lib\\site-packages)\n",
      "WARNING: Ignoring invalid distribution -illow (c:\\users\\viet\\anaconda3\\lib\\site-packages)\n"
     ]
    }
   ],
   "source": [
    "!pip install gtts"
   ]
  },
  {
   "cell_type": "code",
   "execution_count": 4,
   "id": "9294293c",
   "metadata": {},
   "outputs": [
    {
     "name": "stdout",
     "output_type": "stream",
     "text": [
      "Collecting playsound\n",
      "  Downloading playsound-1.3.0.tar.gz (7.7 kB)\n",
      "  Preparing metadata (setup.py): started\n",
      "  Preparing metadata (setup.py): finished with status 'done'\n",
      "Building wheels for collected packages: playsound\n",
      "  Building wheel for playsound (setup.py): started\n",
      "  Building wheel for playsound (setup.py): finished with status 'done'\n",
      "  Created wheel for playsound: filename=playsound-1.3.0-py3-none-any.whl size=7020 sha256=7872f8f0498610e544988d5df95100f8f3c82c393ea53b1079eac22aa825348e\n",
      "  Stored in directory: c:\\users\\viet\\appdata\\local\\pip\\cache\\wheels\\e8\\fd\\e2\\7acd59b1723b9c3288faa9018c4126cb409af0ce36afd3d908\n",
      "Successfully built playsound\n",
      "Installing collected packages: playsound\n",
      "Successfully installed playsound-1.3.0\n"
     ]
    },
    {
     "name": "stderr",
     "output_type": "stream",
     "text": [
      "WARNING: Ignoring invalid distribution -illow (c:\\users\\viet\\anaconda3\\lib\\site-packages)\n",
      "WARNING: Ignoring invalid distribution -illow (c:\\users\\viet\\anaconda3\\lib\\site-packages)\n",
      "WARNING: Ignoring invalid distribution -illow (c:\\users\\viet\\anaconda3\\lib\\site-packages)\n",
      "WARNING: Ignoring invalid distribution -illow (c:\\users\\viet\\anaconda3\\lib\\site-packages)\n",
      "WARNING: Ignoring invalid distribution -illow (c:\\users\\viet\\anaconda3\\lib\\site-packages)\n",
      "WARNING: Ignoring invalid distribution -illow (c:\\users\\viet\\anaconda3\\lib\\site-packages)\n",
      "WARNING: Ignoring invalid distribution -illow (c:\\users\\viet\\anaconda3\\lib\\site-packages)\n"
     ]
    }
   ],
   "source": [
    "!pip install playsound"
   ]
  },
  {
   "cell_type": "code",
   "execution_count": 5,
   "id": "a574065b",
   "metadata": {},
   "outputs": [],
   "source": [
    "from gtts import gTTS\n",
    "import playsound\n",
    "import sys\n",
    "\n",
    "\n",
    "\n",
    "def texttospeech(text, lang1):\n",
    "    import gtts\n",
    "    language = gtts.lang.tts_langs()\n",
    "    if lang1 in language.keys():\n",
    "        output = gTTS(text, lang=lang1, slow=False)\n",
    "        output.save(\"output.mp3\")\n",
    "        playsound.playsound('output.mp3', True)\n",
    "\n",
    "    else:\n",
    "        text = \"Please choose correct languages you want\"\n",
    "        output = gTTS(text, lang=\"en\", slow=False)\n",
    "        output.save(\"output1.mp3\")\n",
    "        playsound.playsound('output1.mp3', True)\n",
    "\n",
    "sys.modules[__name__] = texttospeech\n"
   ]
  },
  {
   "cell_type": "code",
   "execution_count": null,
   "id": "a43181c6",
   "metadata": {},
   "outputs": [],
   "source": []
  },
  {
   "cell_type": "code",
   "execution_count": null,
   "id": "64e228ac",
   "metadata": {},
   "outputs": [],
   "source": []
  }
 ],
 "metadata": {
  "kernelspec": {
   "display_name": "Python 3 (ipykernel)",
   "language": "python",
   "name": "python3"
  },
  "language_info": {
   "codemirror_mode": {
    "name": "ipython",
    "version": 3
   },
   "file_extension": ".py",
   "mimetype": "text/x-python",
   "name": "python",
   "nbconvert_exporter": "python",
   "pygments_lexer": "ipython3",
   "version": "3.9.12"
  }
 },
 "nbformat": 4,
 "nbformat_minor": 5
}
